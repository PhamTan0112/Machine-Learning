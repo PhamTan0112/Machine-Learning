{
 "cells": [
  {
   "cell_type": "markdown",
   "metadata": {},
   "source": [
    "Load And Split Datasets"
   ]
  },
  {
   "cell_type": "code",
   "execution_count": null,
   "metadata": {},
   "outputs": [],
   "source": [
    "import pandas as pd\n",
    "\n",
    "# Load and Split Train Datasets\n",
    "\n",
    "train = pd.read_csv('train.csv', delimiter=\";\")\n",
    "\n",
    "X_train = train['title'].values + train['text'].values\n",
    "Y_train = train['label'].values\n",
    "\n",
    "# Load and Split Test Datasets\n",
    "\n",
    "test = pd.read_csv('test.csv', delimiter=\";\")\n",
    "\n",
    "X_test = test['title'].values + test['text'].values\n",
    "Y_test = test['label'].values\n",
    "\n",
    "# Load and Split Evaluations Datasets\n",
    "\n",
    "eval = pd.read_csv('evaluation.csv', delimiter=\";\")\n",
    "\n",
    "X_eval = eval['title'].values + eval['text'].values\n",
    "Y_eval = eval['label'].values\n"
   ]
  },
  {
   "cell_type": "markdown",
   "metadata": {},
   "source": [
    "Preprocessing Data"
   ]
  },
  {
   "cell_type": "code",
   "execution_count": null,
   "metadata": {},
   "outputs": [],
   "source": [
    "from keras.preprocessing.text import Tokenizer\n",
    "from keras.preprocessing.sequence import pad_sequences\n",
    "\n",
    "# Tokenizer Data\n",
    "\n",
    "tokenizer = Tokenizer(num_words=5000, oov_token=\"<OOV>\")\n",
    "tokenizer.fit_on_texts(X_train)\n",
    "\n",
    "# Tokenizer Data to Sequences\n",
    "\n",
    "train_sequences = tokenizer.texts_to_sequences(X_train)\n",
    "test_sequences = tokenizer.texts_to_sequences(X_test)\n",
    "eval_sequences = tokenizer.texts_to_sequences(X_eval)\n",
    "\n",
    "# Padding Sequences to Max Length\n",
    "\n",
    "max_length = 300\n",
    "\n",
    "pad_train_sequences = pad_sequences(train_sequences, maxlen=max_length, padding='post', truncating='post')\n",
    "pad_test_sequences = pad_sequences(test_sequences, maxlen=max_length, padding='post', truncating='post')\n",
    "pad_eval_sequences = pad_sequences(eval_sequences, maxlen=max_length, padding='post', truncating='post')"
   ]
  },
  {
   "cell_type": "markdown",
   "metadata": {},
   "source": [
    "Preprocessing Real and Fake Data"
   ]
  },
  {
   "cell_type": "code",
   "execution_count": null,
   "metadata": {},
   "outputs": [],
   "source": [
    "real_pad_train = pad_train_sequences[Y_train == 0]\n",
    "fake_pad_train = pad_train_sequences[Y_train == 1]\n",
    "\n",
    "real_pad_test = pad_test_sequences[Y_test == 0]\n",
    "fake_pad_test = pad_test_sequences[Y_test == 1]\n",
    "\n",
    "real_pad_eval = pad_eval_sequences[Y_eval == 0]\n",
    "fake_pad_eval = pad_eval_sequences[Y_eval == 1]\n"
   ]
  },
  {
   "cell_type": "markdown",
   "metadata": {},
   "source": [
    "Parameters"
   ]
  },
  {
   "cell_type": "code",
   "execution_count": null,
   "metadata": {},
   "outputs": [],
   "source": [
    "Latent_dim = 150\n",
    "Batch_size = 128\n",
    "epochs = 5000"
   ]
  },
  {
   "cell_type": "markdown",
   "metadata": {},
   "source": [
    "Generator And Discriminator"
   ]
  },
  {
   "cell_type": "code",
   "execution_count": 59,
   "metadata": {},
   "outputs": [],
   "source": [
    "\n",
    "from keras.models import Sequential\n",
    "from keras.layers import Dense, Dropout\n",
    "\n",
    "# Build Generator\n",
    "\n",
    "G = Sequential([\n",
    "    Dense(128, activation=\"relu\", input_dim = Latent_dim),\n",
    "    Dense(256, activation=\"relu\"),\n",
    "    Dense(max_length, activation=\"sigmoid\")\n",
    "])\n",
    "\n",
    "# Build Dicriminator\n",
    "\n",
    "D = Sequential([\n",
    "    Dense(256, activation=\"relu\", input_dim=max_length),\n",
    "    Dropout(0.3),\n",
    "    Dense(128, activation=\"relu\"),\n",
    "    Dropout(0.3),\n",
    "    Dense(1, activation=\"sigmoid\")\n",
    "])"
   ]
  },
  {
   "cell_type": "markdown",
   "metadata": {},
   "source": [
    "GAN"
   ]
  },
  {
   "cell_type": "code",
   "execution_count": null,
   "metadata": {},
   "outputs": [],
   "source": [
    "from keras.layers import Dense, Embedding, LSTM, Dropout, Flatten, Input\n",
    "from keras.models import Model\n",
    "from keras.optimizers import Adam\n",
    "import numpy as np\n",
    "\n",
    "# Build GAN\n",
    "\n",
    "D.trainable = False\n",
    "gan_input = Input(shape = (G.input_shape[1],))\n",
    "fake_output = G(gan_input)\n",
    "gan_output = D(fake_output)\n",
    "gan = Model(gan_input, gan_output)\n",
    "gan.compile(optimizer = Adam(learning_rate = 0.0002), loss='binary_crossentropy')\n",
    "\n",
    "# Real Data and Fake Data for Train, Validation\n",
    "\n",
    "real_data = real_pad_train\n",
    "fake_data = fake_pad_train\n",
    "\n",
    "real_val = real_pad_test\n",
    "fake_val = fake_pad_test\n",
    "\n",
    "# Discriminator History\n",
    "\n",
    "train_D_loss = []\n",
    "train_D_accuracy = []\n",
    "val_D_loss = []\n",
    "val_D_accurary = []\n",
    "\n",
    "# Generator History\n",
    "\n",
    "train_G_loss = []\n",
    "\n",
    "# Early Stopping\n",
    "\n",
    "best_val_acc = 0\n",
    "patience = 10\n",
    "patience_counter = 0\n",
    "\n",
    "# Train GAN\n",
    "\n",
    "half_batch = Batch_size // 2\n",
    "\n",
    "for epoch in range(epochs):\n",
    "\n",
    "    # Train Discriminator with Real Data:\n",
    "\n",
    "    real_idx = np.random.randint(0, real_data.shape[0], half_batch)\n",
    "    real_samples = real_data[real_idx]\n",
    "    y_real = np.zeros((half_batch, 1))\n",
    "\n",
    "    # Generate Fake Samples:\n",
    "\n",
    "    noise = np.random.normal(0, 1, (half_batch, Latent_dim))\n",
    "    fake_samples = G.predict(noise)\n",
    "    y_fake = np.ones((half_batch, 1))\n",
    "\n",
    "    # Combine Real and Fake samples for Training Discriminator\n",
    "\n",
    "    X_D = np.vstack([real_samples, fake_samples])\n",
    "    Y_D = np.vstack([y_real, y_fake])\n",
    "\n",
    "    # Shuffle the Combined Data\n",
    "\n",
    "    idx = np.random.permutation(X_D.shape[0])\n",
    "    X_D = X_D[idx]\n",
    "    Y_D = Y_D[idx]\n",
    "\n",
    "    # Train Discriminator\n",
    "\n",
    "    D.trainable = True\n",
    "    D.compile(optimizer=Adam(learning_rate=0.0002), loss='binary_crossentropy', metrics=['accuracy'])\n",
    "    D_Loss = D.train_on_batch(X_D, Y_D)\n",
    "\n",
    "    # Train Generator\n",
    "\n",
    "    noise = np.random.normal(0, 1, (Batch_size, Latent_dim))\n",
    "    y_valid = np.zeros((Batch_size, 1))\n",
    "    G_Loss = gan.train_on_batch(noise, y_valid)\n",
    "\n",
    "    # Validation Data\n",
    "\n",
    "    if epoch % 10 == 0:\n",
    "\n",
    "        # Get Real Validation Set\n",
    "\n",
    "        val_real_idx = np.random.randint(0, real_val.shape[0], half_batch)\n",
    "        val_real_samples = real_val[val_real_idx]\n",
    "        val_real_y = np.zeros((half_batch, 1))\n",
    "\n",
    "        # Create Fake Samples for Validation\n",
    "\n",
    "        val_noise = np.random.normal(0, 1, (half_batch, Latent_dim))\n",
    "        val_fake_samples = G.predict(val_noise)\n",
    "        val_fake_y = np.ones((half_batch, 1))\n",
    "\n",
    "        # Evaluate on Validation Set\n",
    "\n",
    "        val_X = np.vstack([val_real_samples, val_fake_samples])\n",
    "        val_Y = np.vstack([val_real_y, val_fake_y])\n",
    "\n",
    "        # Shuffle Validation Data\n",
    "\n",
    "        val_idx = np.random.permutation(val_X.shape[0])\n",
    "        val_X = val_X[val_idx]\n",
    "        val_Y = val_Y[val_idx]\n",
    "\n",
    "        # Validation Loss\n",
    "\n",
    "        D_Loss_Val = D.evaluate(val_X, val_Y, verbose = 0)\n",
    "\n",
    "        # Save Validation Metrics\n",
    "\n",
    "        val_D_loss.append(D_Loss_Val[0])\n",
    "        val_D_accurary.append(D_Loss_Val[1])\n",
    "\n",
    "        # Early Stopping based on Validation accuracy\n",
    "\n",
    "        if D_Loss_Val[1] > best_val_acc:\n",
    "            best_val_acc = D_Loss_Val[1]\n",
    "            patience_counter = 0\n",
    "        else:\n",
    "            patience_counter += 1\n",
    "\n",
    "        if patience_counter >= patience:\n",
    "            print(f\"Early Stopping at Epoch: {epoch}\")\n",
    "            G.save(\"Generator.h5\")\n",
    "            D.save(\"Discriminator.h5\")\n",
    "            break\n",
    "\n",
    "\n",
    "        # Save Training Metrics\n",
    "\n",
    "    train_D_loss.append(D_Loss[0])\n",
    "    train_D_accuracy.append(D_Loss[1])\n",
    "    train_G_loss.append(G_Loss)\n",
    "\n",
    "    if epoch % 100 == 0:\n",
    "       print(f\"Epoch {epoch + 1} / {epoch} [D loss: {D_Loss[0]:.4f}, acc: {D_Loss[1]:.4f}] [G Loss: {G_Loss:.4f}]\")\n",
    "\n"
   ]
  },
  {
   "cell_type": "code",
   "execution_count": 65,
   "metadata": {},
   "outputs": [
    {
     "name": "stdout",
     "output_type": "stream",
     "text": [
      "WARNING:tensorflow:No training configuration found in the save file, so the model was *not* compiled. Compile it manually.\n",
      "254/254 [==============================] - 1s 3ms/step\n"
     ]
    },
    {
     "ename": "TypeError",
     "evalue": "Cannot interpret '1' as a data type",
     "output_type": "error",
     "traceback": [
      "\u001b[1;31m---------------------------------------------------------------------------\u001b[0m",
      "\u001b[1;31mTypeError\u001b[0m                                 Traceback (most recent call last)",
      "Cell \u001b[1;32mIn[65], line 13\u001b[0m\n\u001b[0;32m      9\u001b[0m noise_eval \u001b[38;5;241m=\u001b[39m np\u001b[38;5;241m.\u001b[39mrandom\u001b[38;5;241m.\u001b[39mnormal(\u001b[38;5;241m0\u001b[39m, \u001b[38;5;241m1\u001b[39m, (pad_eval_sequences\u001b[38;5;241m.\u001b[39mshape[\u001b[38;5;241m0\u001b[39m], Latent_dim))\n\u001b[0;32m     11\u001b[0m eval_fake_samples \u001b[38;5;241m=\u001b[39m generator\u001b[38;5;241m.\u001b[39mpredict(noise_eval)\n\u001b[1;32m---> 13\u001b[0m eval_real_D_loss \u001b[38;5;241m=\u001b[39m discriminator\u001b[38;5;241m.\u001b[39mevaluate(pad_eval_sequences, \u001b[43mnp\u001b[49m\u001b[38;5;241;43m.\u001b[39;49m\u001b[43mzeros\u001b[49m\u001b[43m(\u001b[49m\u001b[43mpad_eval_sequences\u001b[49m\u001b[38;5;241;43m.\u001b[39;49m\u001b[43mshape\u001b[49m\u001b[43m[\u001b[49m\u001b[38;5;241;43m0\u001b[39;49m\u001b[43m]\u001b[49m\u001b[43m,\u001b[49m\u001b[43m \u001b[49m\u001b[38;5;241;43m1\u001b[39;49m\u001b[43m)\u001b[49m, verbose \u001b[38;5;241m=\u001b[39m \u001b[38;5;241m0\u001b[39m)\n\u001b[0;32m     14\u001b[0m eval_fake_D_loss \u001b[38;5;241m=\u001b[39m discriminator\u001b[38;5;241m.\u001b[39mevaluate(eval_fake_samples, np\u001b[38;5;241m.\u001b[39mones(pad_eval_sequences\u001b[38;5;241m.\u001b[39mshape[\u001b[38;5;241m0\u001b[39m], \u001b[38;5;241m1\u001b[39m), verbose \u001b[38;5;241m=\u001b[39m \u001b[38;5;241m0\u001b[39m)\n\u001b[0;32m     16\u001b[0m \u001b[38;5;28mprint\u001b[39m(\u001b[38;5;124m\"\u001b[39m\u001b[38;5;124mEvaluation Result: \u001b[39m\u001b[38;5;124m\"\u001b[39m)\n",
      "\u001b[1;31mTypeError\u001b[0m: Cannot interpret '1' as a data type"
     ]
    }
   ],
   "source": [
    "from keras.models import load_model\n",
    "\n",
    "generator = load_model(\"Generator.h5\")\n",
    "discriminator = load_model(\"Discriminator.h5\")\n",
    "\n",
    "generator.compile(optimizer=Adam(learning_rate=0.0002), loss='binary_crossentropy', metrics=['accuracy'])\n",
    "discriminator.compile(optimizer=Adam(learning_rate=0.0002), loss='binary_crossentropy', metrics=['accuracy'])\n",
    "\n",
    "noise_eval = np.random.normal(0, 1, (pad_eval_sequences.shape[0], Latent_dim))\n",
    "\n",
    "eval_fake_samples = generator.predict(noise_eval)\n",
    "\n",
    "eval_real_D_loss = discriminator.evaluate(pad_eval_sequences, np.zeros(pad_eval_sequences.shape[0], 1), verbose = 0)\n",
    "eval_fake_D_loss = discriminator.evaluate(eval_fake_samples, np.ones(pad_eval_sequences.shape[0], 1), verbose = 0)\n",
    "\n",
    "print(\"Evaluation Result: \")\n",
    "print(f\"Discriminator Loss on Real Data: {eval_real_D_loss:.4f}\")\n",
    "print(f\"Discriminator Loss on Fake Data: {eval_fake_D_loss:.4f}\")\n",
    "\n"
   ]
  },
  {
   "cell_type": "markdown",
   "metadata": {},
   "source": [
    "Show and Save Plot Models Train"
   ]
  },
  {
   "cell_type": "code",
   "execution_count": 24,
   "metadata": {},
   "outputs": [
    {
     "ename": "ValueError",
     "evalue": "x and y must have same first dimension, but have shapes (10,) and (91,)",
     "output_type": "error",
     "traceback": [
      "\u001b[1;31m---------------------------------------------------------------------------\u001b[0m",
      "\u001b[1;31mValueError\u001b[0m                                Traceback (most recent call last)",
      "Cell \u001b[1;32mIn[24], line 9\u001b[0m\n\u001b[0;32m      7\u001b[0m plt\u001b[38;5;241m.\u001b[39msubplot(\u001b[38;5;241m1\u001b[39m, \u001b[38;5;241m3\u001b[39m, \u001b[38;5;241m1\u001b[39m)\n\u001b[0;32m      8\u001b[0m plt\u001b[38;5;241m.\u001b[39mplot(train_D_loss, label \u001b[38;5;241m=\u001b[39m \u001b[38;5;124m\"\u001b[39m\u001b[38;5;124mTrain\u001b[39m\u001b[38;5;124m\"\u001b[39m)\n\u001b[1;32m----> 9\u001b[0m \u001b[43mplt\u001b[49m\u001b[38;5;241;43m.\u001b[39;49m\u001b[43mplot\u001b[49m\u001b[43m(\u001b[49m\n\u001b[0;32m     10\u001b[0m \u001b[43m    \u001b[49m\u001b[43mnp\u001b[49m\u001b[38;5;241;43m.\u001b[39;49m\u001b[43marange\u001b[49m\u001b[43m(\u001b[49m\u001b[38;5;241;43m0\u001b[39;49m\u001b[43m,\u001b[49m\u001b[43m \u001b[49m\u001b[38;5;28;43mlen\u001b[39;49m\u001b[43m(\u001b[49m\u001b[43mtrain_D_loss\u001b[49m\u001b[43m)\u001b[49m\u001b[43m,\u001b[49m\u001b[43m \u001b[49m\u001b[38;5;241;43m10\u001b[39;49m\u001b[43m)\u001b[49m\u001b[43m,\u001b[49m\n\u001b[0;32m     11\u001b[0m \u001b[43m    \u001b[49m\u001b[43mtrain_D_loss\u001b[49m\u001b[43m,\u001b[49m\n\u001b[0;32m     12\u001b[0m \u001b[43m    \u001b[49m\u001b[43mlabel\u001b[49m\u001b[43m \u001b[49m\u001b[38;5;241;43m=\u001b[39;49m\u001b[43m \u001b[49m\u001b[38;5;124;43m\"\u001b[39;49m\u001b[38;5;124;43mValidation\u001b[39;49m\u001b[38;5;124;43m\"\u001b[39;49m\n\u001b[0;32m     13\u001b[0m \u001b[43m)\u001b[49m\n\u001b[0;32m     14\u001b[0m plt\u001b[38;5;241m.\u001b[39mtitle(\u001b[38;5;124m\"\u001b[39m\u001b[38;5;124mDiscriminator Loss\u001b[39m\u001b[38;5;124m\"\u001b[39m)\n\u001b[0;32m     15\u001b[0m plt\u001b[38;5;241m.\u001b[39mxlabel(\u001b[38;5;124m\"\u001b[39m\u001b[38;5;124mEpoch\u001b[39m\u001b[38;5;124m\"\u001b[39m)\n",
      "File \u001b[1;32me:\\asus\\Machine Learning\\.venv\\lib\\site-packages\\matplotlib\\pyplot.py:2812\u001b[0m, in \u001b[0;36mplot\u001b[1;34m(scalex, scaley, data, *args, **kwargs)\u001b[0m\n\u001b[0;32m   2810\u001b[0m \u001b[38;5;129m@_copy_docstring_and_deprecators\u001b[39m(Axes\u001b[38;5;241m.\u001b[39mplot)\n\u001b[0;32m   2811\u001b[0m \u001b[38;5;28;01mdef\u001b[39;00m \u001b[38;5;21mplot\u001b[39m(\u001b[38;5;241m*\u001b[39margs, scalex\u001b[38;5;241m=\u001b[39m\u001b[38;5;28;01mTrue\u001b[39;00m, scaley\u001b[38;5;241m=\u001b[39m\u001b[38;5;28;01mTrue\u001b[39;00m, data\u001b[38;5;241m=\u001b[39m\u001b[38;5;28;01mNone\u001b[39;00m, \u001b[38;5;241m*\u001b[39m\u001b[38;5;241m*\u001b[39mkwargs):\n\u001b[1;32m-> 2812\u001b[0m     \u001b[38;5;28;01mreturn\u001b[39;00m \u001b[43mgca\u001b[49m\u001b[43m(\u001b[49m\u001b[43m)\u001b[49m\u001b[38;5;241;43m.\u001b[39;49m\u001b[43mplot\u001b[49m\u001b[43m(\u001b[49m\n\u001b[0;32m   2813\u001b[0m \u001b[43m        \u001b[49m\u001b[38;5;241;43m*\u001b[39;49m\u001b[43margs\u001b[49m\u001b[43m,\u001b[49m\u001b[43m \u001b[49m\u001b[43mscalex\u001b[49m\u001b[38;5;241;43m=\u001b[39;49m\u001b[43mscalex\u001b[49m\u001b[43m,\u001b[49m\u001b[43m \u001b[49m\u001b[43mscaley\u001b[49m\u001b[38;5;241;43m=\u001b[39;49m\u001b[43mscaley\u001b[49m\u001b[43m,\u001b[49m\n\u001b[0;32m   2814\u001b[0m \u001b[43m        \u001b[49m\u001b[38;5;241;43m*\u001b[39;49m\u001b[38;5;241;43m*\u001b[39;49m\u001b[43m(\u001b[49m\u001b[43m{\u001b[49m\u001b[38;5;124;43m\"\u001b[39;49m\u001b[38;5;124;43mdata\u001b[39;49m\u001b[38;5;124;43m\"\u001b[39;49m\u001b[43m:\u001b[49m\u001b[43m \u001b[49m\u001b[43mdata\u001b[49m\u001b[43m}\u001b[49m\u001b[43m \u001b[49m\u001b[38;5;28;43;01mif\u001b[39;49;00m\u001b[43m \u001b[49m\u001b[43mdata\u001b[49m\u001b[43m \u001b[49m\u001b[38;5;129;43;01mis\u001b[39;49;00m\u001b[43m \u001b[49m\u001b[38;5;129;43;01mnot\u001b[39;49;00m\u001b[43m \u001b[49m\u001b[38;5;28;43;01mNone\u001b[39;49;00m\u001b[43m \u001b[49m\u001b[38;5;28;43;01melse\u001b[39;49;00m\u001b[43m \u001b[49m\u001b[43m{\u001b[49m\u001b[43m}\u001b[49m\u001b[43m)\u001b[49m\u001b[43m,\u001b[49m\u001b[43m \u001b[49m\u001b[38;5;241;43m*\u001b[39;49m\u001b[38;5;241;43m*\u001b[39;49m\u001b[43mkwargs\u001b[49m\u001b[43m)\u001b[49m\n",
      "File \u001b[1;32me:\\asus\\Machine Learning\\.venv\\lib\\site-packages\\matplotlib\\axes\\_axes.py:1688\u001b[0m, in \u001b[0;36mAxes.plot\u001b[1;34m(self, scalex, scaley, data, *args, **kwargs)\u001b[0m\n\u001b[0;32m   1445\u001b[0m \u001b[38;5;250m\u001b[39m\u001b[38;5;124;03m\"\"\"\u001b[39;00m\n\u001b[0;32m   1446\u001b[0m \u001b[38;5;124;03mPlot y versus x as lines and/or markers.\u001b[39;00m\n\u001b[0;32m   1447\u001b[0m \n\u001b[1;32m   (...)\u001b[0m\n\u001b[0;32m   1685\u001b[0m \u001b[38;5;124;03m(``'green'``) or hex strings (``'#008000'``).\u001b[39;00m\n\u001b[0;32m   1686\u001b[0m \u001b[38;5;124;03m\"\"\"\u001b[39;00m\n\u001b[0;32m   1687\u001b[0m kwargs \u001b[38;5;241m=\u001b[39m cbook\u001b[38;5;241m.\u001b[39mnormalize_kwargs(kwargs, mlines\u001b[38;5;241m.\u001b[39mLine2D)\n\u001b[1;32m-> 1688\u001b[0m lines \u001b[38;5;241m=\u001b[39m [\u001b[38;5;241m*\u001b[39m\u001b[38;5;28mself\u001b[39m\u001b[38;5;241m.\u001b[39m_get_lines(\u001b[38;5;241m*\u001b[39margs, data\u001b[38;5;241m=\u001b[39mdata, \u001b[38;5;241m*\u001b[39m\u001b[38;5;241m*\u001b[39mkwargs)]\n\u001b[0;32m   1689\u001b[0m \u001b[38;5;28;01mfor\u001b[39;00m line \u001b[38;5;129;01min\u001b[39;00m lines:\n\u001b[0;32m   1690\u001b[0m     \u001b[38;5;28mself\u001b[39m\u001b[38;5;241m.\u001b[39madd_line(line)\n",
      "File \u001b[1;32me:\\asus\\Machine Learning\\.venv\\lib\\site-packages\\matplotlib\\axes\\_base.py:311\u001b[0m, in \u001b[0;36m_process_plot_var_args.__call__\u001b[1;34m(self, data, *args, **kwargs)\u001b[0m\n\u001b[0;32m    309\u001b[0m     this \u001b[38;5;241m+\u001b[39m\u001b[38;5;241m=\u001b[39m args[\u001b[38;5;241m0\u001b[39m],\n\u001b[0;32m    310\u001b[0m     args \u001b[38;5;241m=\u001b[39m args[\u001b[38;5;241m1\u001b[39m:]\n\u001b[1;32m--> 311\u001b[0m \u001b[38;5;28;01myield from\u001b[39;00m \u001b[38;5;28;43mself\u001b[39;49m\u001b[38;5;241;43m.\u001b[39;49m\u001b[43m_plot_args\u001b[49m\u001b[43m(\u001b[49m\n\u001b[0;32m    312\u001b[0m \u001b[43m    \u001b[49m\u001b[43mthis\u001b[49m\u001b[43m,\u001b[49m\u001b[43m \u001b[49m\u001b[43mkwargs\u001b[49m\u001b[43m,\u001b[49m\u001b[43m \u001b[49m\u001b[43mambiguous_fmt_datakey\u001b[49m\u001b[38;5;241;43m=\u001b[39;49m\u001b[43mambiguous_fmt_datakey\u001b[49m\u001b[43m)\u001b[49m\n",
      "File \u001b[1;32me:\\asus\\Machine Learning\\.venv\\lib\\site-packages\\matplotlib\\axes\\_base.py:504\u001b[0m, in \u001b[0;36m_process_plot_var_args._plot_args\u001b[1;34m(self, tup, kwargs, return_kwargs, ambiguous_fmt_datakey)\u001b[0m\n\u001b[0;32m    501\u001b[0m     \u001b[38;5;28mself\u001b[39m\u001b[38;5;241m.\u001b[39maxes\u001b[38;5;241m.\u001b[39myaxis\u001b[38;5;241m.\u001b[39mupdate_units(y)\n\u001b[0;32m    503\u001b[0m \u001b[38;5;28;01mif\u001b[39;00m x\u001b[38;5;241m.\u001b[39mshape[\u001b[38;5;241m0\u001b[39m] \u001b[38;5;241m!=\u001b[39m y\u001b[38;5;241m.\u001b[39mshape[\u001b[38;5;241m0\u001b[39m]:\n\u001b[1;32m--> 504\u001b[0m     \u001b[38;5;28;01mraise\u001b[39;00m \u001b[38;5;167;01mValueError\u001b[39;00m(\u001b[38;5;124mf\u001b[39m\u001b[38;5;124m\"\u001b[39m\u001b[38;5;124mx and y must have same first dimension, but \u001b[39m\u001b[38;5;124m\"\u001b[39m\n\u001b[0;32m    505\u001b[0m                      \u001b[38;5;124mf\u001b[39m\u001b[38;5;124m\"\u001b[39m\u001b[38;5;124mhave shapes \u001b[39m\u001b[38;5;132;01m{\u001b[39;00mx\u001b[38;5;241m.\u001b[39mshape\u001b[38;5;132;01m}\u001b[39;00m\u001b[38;5;124m and \u001b[39m\u001b[38;5;132;01m{\u001b[39;00my\u001b[38;5;241m.\u001b[39mshape\u001b[38;5;132;01m}\u001b[39;00m\u001b[38;5;124m\"\u001b[39m)\n\u001b[0;32m    506\u001b[0m \u001b[38;5;28;01mif\u001b[39;00m x\u001b[38;5;241m.\u001b[39mndim \u001b[38;5;241m>\u001b[39m \u001b[38;5;241m2\u001b[39m \u001b[38;5;129;01mor\u001b[39;00m y\u001b[38;5;241m.\u001b[39mndim \u001b[38;5;241m>\u001b[39m \u001b[38;5;241m2\u001b[39m:\n\u001b[0;32m    507\u001b[0m     \u001b[38;5;28;01mraise\u001b[39;00m \u001b[38;5;167;01mValueError\u001b[39;00m(\u001b[38;5;124mf\u001b[39m\u001b[38;5;124m\"\u001b[39m\u001b[38;5;124mx and y can be no greater than 2D, but have \u001b[39m\u001b[38;5;124m\"\u001b[39m\n\u001b[0;32m    508\u001b[0m                      \u001b[38;5;124mf\u001b[39m\u001b[38;5;124m\"\u001b[39m\u001b[38;5;124mshapes \u001b[39m\u001b[38;5;132;01m{\u001b[39;00mx\u001b[38;5;241m.\u001b[39mshape\u001b[38;5;132;01m}\u001b[39;00m\u001b[38;5;124m and \u001b[39m\u001b[38;5;132;01m{\u001b[39;00my\u001b[38;5;241m.\u001b[39mshape\u001b[38;5;132;01m}\u001b[39;00m\u001b[38;5;124m\"\u001b[39m)\n",
      "\u001b[1;31mValueError\u001b[0m: x and y must have same first dimension, but have shapes (10,) and (91,)"
     ]
    },
    {
     "data": {
      "image/png": "[encoded data removed]",
      "text/plain": [
       "<Figure size 1500x500 with 1 Axes>"
      ]
     },
     "metadata": {},
     "output_type": "display_data"
    }
   ],
   "source": [
    "import matplotlib.pyplot as plt\n",
    "\n",
    "plt.figure(figsize=(15, 5))\n",
    "\n",
    "# Plot Discriminator Loss\n",
    "\n",
    "plt.subplot(1, 3, 1)\n",
    "plt.plot(train_D_loss, label = \"Train\")\n",
    "plt.plot(\n",
    "    np.arange(0, len(train_D_loss), 10),\n",
    "    train_D_loss,\n",
    "    label = \"Validation\"\n",
    ")\n",
    "plt.title(\"Discriminator Loss\")\n",
    "plt.xlabel(\"Epoch\")\n",
    "plt.ylabel(\"Loss\")\n",
    "plt.legend()\n",
    "\n",
    "# Plot Discriminator Accuracy\n",
    "\n",
    "plt.subplot(1, 3 ,2)\n",
    "plt.plot(train_D_accuracy, label = \"Train\")\n",
    "plt.plot(\n",
    "    np.arange(0, len(train_D_accuracy), 10),\n",
    "    train_D_accuracy,\n",
    "    label = \"Validation\"\n",
    ")\n",
    "plt.title(\"Discriminator Accuracy\")\n",
    "plt.xlabel(\"Epoch\")\n",
    "plt.ylabel(\"Accuracy\")\n",
    "plt.legend()\n",
    "\n",
    "# Plot Generator Loss\n",
    "\n",
    "plt.subplot(1, 3 ,3)\n",
    "plt.plot(train_G_loss)\n",
    "plt.title(\"Generator Loss\")\n",
    "plt.xlabel(\"Epoch\")\n",
    "plt.ylabel(\"Loss\")\n",
    "plt.legend()\n",
    "\n",
    "plt.tight_layout()\n",
    "\n",
    "# plt.savefig(\"plot.png\")\n",
    "\n",
    "plt.show()"
   ]
  },
  {
   "cell_type": "markdown",
   "metadata": {},
   "source": [
    "Show and Save Evaluate Models"
   ]
  },
  {
   "cell_type": "code",
   "execution_count": null,
   "metadata": {},
   "outputs": [],
   "source": [
    "real_eval = real_pad_eval\n",
    "real_eval_y = Y_eval['label' == 0]\n",
    "\n",
    "# Evaluate Discriminator\n",
    "\n",
    "real_loss, real_acc = D.evaluate(X_eval, Y_eval, verbose = 0)\n",
    "\n",
    "# Evaluate Generator\n",
    "\n",
    "noise = np.random.normal(0, 1, (len(real_eval), Latent_dim))\n",
    "eval_fake_samples = G.predict(noise)\n",
    "eval_fake_y = np.ones(len(eval_fake_samples), 1)\n",
    "fake_loss, fake_acc = D.evaluate(eval_fake_samples, eval_fake_y, verbose = 0)\n",
    "\n",
    "# Plot Evaluate Models\n",
    "\n",
    "fig = plt.figure(figsize=(20, 15))\n",
    "\n",
    "# Accuracy Plot\n",
    "\n",
    "plt.subplot(2, 2, 1)\n",
    "accuracies = [real_acc, fake_acc]\n",
    "plt.bar(['Real News', 'Generated News'], accuracies)\n",
    "plt.title('Classification Accuracy')\n",
    "plt.ylabel('Accuracy')\n",
    "\n",
    "for i,v in enumerate(accuracies):\n",
    "    plt.text(i, v + 0.01, f'{v:.3f}', ha = 'center')\n",
    "plt.ylim(0, 1.1)\n",
    "\n",
    "# Loss Plot\n",
    "\n",
    "plt.subplot(2, 2, 2)\n",
    "losses = [real_loss, fake_loss]\n",
    "plt.bar(['Real News', 'Generated News'], losses)\n",
    "plt.title('Classification Loss')\n",
    "plt.ylabel('Loss')\n",
    "for i,v in enumerate(losses):\n",
    "    plt.text(i, v + 0.01, f'{v:.3f}', ha = 'center')\n",
    "\n",
    "# Show Plot\n",
    "\n",
    "plt.tight_layout()\n",
    "plt.show()\n",
    "\n",
    "# Save Plot\n",
    "\n",
    "plt.savefig('evaluate.png')"
   ]
  },
  {
   "cell_type": "markdown",
   "metadata": {},
   "source": [
    "Save Models"
   ]
  },
  {
   "cell_type": "code",
   "execution_count": null,
   "metadata": {},
   "outputs": [],
   "source": [
    "import pickle\n",
    "\n",
    "G.save('Generator.h5')\n",
    "D.save('Discriminator.h5')\n",
    "gan.save('GAN.h5')\n",
    "with open('tokenizer_GAN.pkl', 'wb') as handle:\n",
    "    pickle.dump(tokenizer, handle, protocol=pickle.HIGHEST_PROTOCOL)"
   ]
  }
 ],
 "metadata": {
  "kernelspec": {
   "display_name": ".venv",
   "language": "python",
   "name": "python3"
  },
  "language_info": {
   "codemirror_mode": {
    "name": "ipython",
    "version": 3
   },
   "file_extension": ".py",
   "mimetype": "text/x-python",
   "name": "python",
   "nbconvert_exporter": "python",
   "pygments_lexer": "ipython3",
   "version": "3.8.0"
  }
 },
 "nbformat": 4,
 "nbformat_minor": 2
}
