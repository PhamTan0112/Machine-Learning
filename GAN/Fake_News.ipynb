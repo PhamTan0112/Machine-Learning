{
 "cells": [
  {
   "cell_type": "markdown",
   "metadata": {},
   "source": [
    "Load And Split Datasets"
   ]
  },
  {
   "cell_type": "code",
   "execution_count": null,
   "metadata": {},
   "outputs": [],
   "source": [
    "import pandas as pd\n",
    "\n",
    "# Load and Split Train Datasets\n",
    "\n",
    "train = pd.read_csv('train.csv', delimiter=\";\")\n",
    "\n",
    "X_train = train['title'].values + train['text'].values\n",
    "Y_train = train['label'].values\n",
    "\n",
    "# Load and Split Test Datasets\n",
    "\n",
    "test = pd.read_csv('test.csv', delimiter=\";\")\n",
    "\n",
    "X_test = test['title'].values + test['text'].values\n",
    "Y_test = test['label'].values\n",
    "\n",
    "# Load and Split Evaluations Datasets\n",
    "\n",
    "eval = pd.read_csv('evaluation.csv', delimiter=\";\")\n",
    "X_eval = eval['title'].values + eval['text'].values\n",
    "Y_eval = eval['label'].values\n"
   ]
  },
  {
   "cell_type": "markdown",
   "metadata": {},
   "source": [
    "Preprocessing Data"
   ]
  },
  {
   "cell_type": "code",
   "execution_count": null,
   "metadata": {},
   "outputs": [],
   "source": [
    "from keras.preprocessing.text import Tokenizer\n",
    "from keras.preprocessing.sequence import pad_sequences\n",
    "\n",
    "# Tokenizer Data\n",
    "\n",
    "tokenizer = Tokenizer(num_words=5000, oov_token=\"<OOV>\")\n",
    "tokenizer.fit_on_texts(X_train)\n",
    "\n",
    "# Tokenizer Data to Sequences\n",
    "\n",
    "train_sequences = tokenizer.texts_to_sequences(X_train)\n",
    "test_sequences = tokenizer.texts_to_sequences(X_test)\n",
    "eval_sequences = tokenizer.texts_to_sequences(X_eval)\n",
    "\n",
    "# Padding Sequences to Max Length\n",
    "\n",
    "max_length = 300\n",
    "\n",
    "pad_train_sequences = pad_sequences(train_sequences, maxlen=max_length, padding='post', truncating='post')\n",
    "pad_test_sequences = pad_sequences(test_sequences, maxlen=max_length, padding='post', truncating='post')\n",
    "pad_eval_sequences = pad_sequences(eval_sequences, maxlen=max_length, padding='post', truncating='post')"
   ]
  }
 ],
 "metadata": {
  "kernelspec": {
   "display_name": ".venv",
   "language": "python",
   "name": "python3"
  },
  "language_info": {
   "name": "python",
   "version": "3.8.0"
  }
 },
 "nbformat": 4,
 "nbformat_minor": 2
}
