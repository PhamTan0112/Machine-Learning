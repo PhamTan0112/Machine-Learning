{
 "cells": [
  {
   "cell_type": "markdown",
   "metadata": {},
   "source": [
    "Load Data"
   ]
  },
  {
   "cell_type": "code",
   "execution_count": 21,
   "metadata": {},
   "outputs": [],
   "source": [
    "import pandas as pd\n",
    "\n",
    "data_train = pd.read_csv('train.csv', delimiter=\";\") # Load Train Datasets\n",
    "data_test = pd.read_csv('test.csv', delimiter=\";\") # Load Test Datasets\n",
    "data_eval = pd.read_csv('evaluation.csv', delimiter=\";\") # Load Evaluation Datasets\n",
    "\n",
    "X_train = data_train['title'].values + data_train['text'].values # Create Train Data\n",
    "X_test = data_test['title'].values + data_test['text'].values # Create Test Data\n",
    "X_eval = data_eval['title'].values + data_eval['text'].values # Create Evaluation Data\n",
    "\n",
    "Y_train = data_train['label'].values # Create Train Labels\n",
    "Y_test = data_test['label'].values # Create Test Labels\n",
    "Y_eval = data_eval['label'].values # Create Evaluation Labels"
   ]
  },
  {
   "cell_type": "markdown",
   "metadata": {},
   "source": [
    "Preprocessing Data"
   ]
  },
  {
   "cell_type": "code",
   "execution_count": 22,
   "metadata": {},
   "outputs": [],
   "source": [
    "from keras.preprocessing.text import Tokenizer\n",
    "from keras.preprocessing.sequence import pad_sequences\n",
    "\n",
    "tokenizer = Tokenizer(num_words=5000, oov_token=\"Token\") # Create Empty Dictionary\n",
    "tokenizer.fit_on_texts(X_train) # Create Dictionary With 5000 words popular in train data\n",
    "\n",
    "# Preprocessing Train Data\n",
    "train_sequences = tokenizer.texts_to_sequences(X_train) # Mapping text to tokenizer\n",
    "padded_train_sequence = pad_sequences(train_sequences, maxlen=250, padding=\"post\") # Create sequences based on tokenizer\n",
    "\n",
    "# Preprocessing Test Data\n",
    "test_sequences = tokenizer.texts_to_sequences(X_test) # Mapping text to tokenizer\n",
    "padded_test_sequence = pad_sequences(test_sequences, maxlen=250, padding=\"post\") # Create sequences based on tokenizer\n",
    "\n",
    "# Preprocessing Evaluate Data\n",
    "eval_sequences = tokenizer.texts_to_sequences(X_eval) # Mapping text to tokenizer\n",
    "padded_eval_sequence = pad_sequences(eval_sequences, maxlen=250, padding=\"post\") # Create sequences based on tokenizer\n",
    "\n"
   ]
  },
  {
   "cell_type": "markdown",
   "metadata": {},
   "source": [
    "Build And Train RNN simple Models"
   ]
  },
  {
   "cell_type": "code",
   "execution_count": 23,
   "metadata": {},
   "outputs": [
    {
     "name": "stdout",
     "output_type": "stream",
     "text": [
      "Epoch 1/20\n",
      "191/191 [==============================] - 123s 635ms/step - loss: 0.5635 - accuracy: 0.6924 - val_loss: 0.3363 - val_accuracy: 0.8495\n",
      "Epoch 2/20\n",
      "191/191 [==============================] - 129s 674ms/step - loss: 0.3682 - accuracy: 0.8312 - val_loss: 0.3426 - val_accuracy: 0.8502\n",
      "Epoch 3/20\n",
      "191/191 [==============================] - 133s 698ms/step - loss: 0.3259 - accuracy: 0.8528 - val_loss: 0.3564 - val_accuracy: 0.8464\n",
      "Epoch 4/20\n",
      "191/191 [==============================] - 133s 697ms/step - loss: 0.2957 - accuracy: 0.8681 - val_loss: 0.2984 - val_accuracy: 0.8724\n",
      "Epoch 5/20\n",
      "191/191 [==============================] - 132s 693ms/step - loss: 0.4032 - accuracy: 0.8244 - val_loss: 0.3795 - val_accuracy: 0.8206\n",
      "Epoch 6/20\n",
      "191/191 [==============================] - 128s 672ms/step - loss: 0.2907 - accuracy: 0.8706 - val_loss: 0.3337 - val_accuracy: 0.8499\n",
      "Epoch 7/20\n",
      "191/191 [==============================] - 130s 683ms/step - loss: 0.2571 - accuracy: 0.8807 - val_loss: 0.3308 - val_accuracy: 0.8052\n"
     ]
    },
    {
     "data": {
      "text/plain": [
       "<keras.src.callbacks.History at 0x24681a72f10>"
      ]
     },
     "execution_count": 23,
     "metadata": {},
     "output_type": "execute_result"
    }
   ],
   "source": [
    "from keras.models import Sequential\n",
    "from keras.layers import Embedding, SimpleRNN, Dense, Dropout\n",
    "from keras.callbacks import EarlyStopping\n",
    "\n",
    "model = Sequential([\n",
    "    Embedding(input_dim=5000, output_dim=128, input_length=250),\n",
    "    SimpleRNN(256, return_sequences=False),\n",
    "    Dropout(0.3),\n",
    "    Dense(128, activation=\"relu\"),\n",
    "    Dropout(0.3),\n",
    "    Dense(1, activation=\"sigmoid\")\n",
    "])\n",
    "\n",
    "early_stopping = EarlyStopping(\n",
    "    monitor=\"val_loss\",\n",
    "    patience=3,\n",
    "    restore_best_weights=True\n",
    ")\n",
    "\n",
    "model.compile(optimizer=\"adam\", loss=\"binary_crossentropy\", metrics=['accuracy'])\n",
    "model.fit(\n",
    "    padded_train_sequence, Y_train, \n",
    "    validation_data=(padded_test_sequence, Y_test),\n",
    "    batch_size=128, \n",
    "    epochs=20,\n",
    "    callbacks=[early_stopping]\n",
    ")"
   ]
  },
  {
   "cell_type": "markdown",
   "metadata": {},
   "source": [
    "Evaluate Models"
   ]
  },
  {
   "cell_type": "code",
   "execution_count": 24,
   "metadata": {},
   "outputs": [
    {
     "name": "stdout",
     "output_type": "stream",
     "text": [
      "254/254 [==============================] - 18s 69ms/step\n",
      "Confusion Matrix: \n",
      "\n",
      "Classification Report: \n",
      "              precision    recall  f1-score   support\n",
      "\n",
      "           0       0.95      0.75      0.84      3803\n",
      "           1       0.81      0.97      0.88      4314\n",
      "\n",
      "    accuracy                           0.87      8117\n",
      "   macro avg       0.88      0.86      0.86      8117\n",
      "weighted avg       0.88      0.87      0.86      8117\n",
      "\n"
     ]
    },
    {
     "data": {
      "image/png": "[encoded data removed]",
      "text/plain": [
       "<Figure size 640x480 with 2 Axes>"
      ]
     },
     "metadata": {},
     "output_type": "display_data"
    }
   ],
   "source": [
    "from sklearn.metrics import classification_report, confusion_matrix\n",
    "import matplotlib as plt\n",
    "import seaborn as sns\n",
    "\n",
    "predictions = (model.predict(padded_eval_sequence) > 0.5).astype(\"int32\")\n",
    "print(\"Confusion Matrix: \")\n",
    "\n",
    "cm = confusion_matrix(Y_eval, predictions)\n",
    "sns.heatmap(cm, annot=True, fmt=\"d\", cmap=\"Blues\")\n",
    "\n",
    "# plt.show()\n",
    "\n",
    "print(\"\\nClassification Report: \")\n",
    "print(classification_report(Y_eval, predictions))\n"
   ]
  },
  {
   "cell_type": "markdown",
   "metadata": {},
   "source": [
    "Save Models And Tokenizer"
   ]
  },
  {
   "cell_type": "code",
   "execution_count": 25,
   "metadata": {},
   "outputs": [],
   "source": [
    "# model.save(\"Simple_RNN.h5\")\n",
    "# import pickle\n",
    "\n",
    "# with open('tokenizer.pkl', 'rb') as f:\n",
    "#     tokenizer = pickle.load(f)"
   ]
  }
 ],
 "metadata": {
  "kernelspec": {
   "display_name": "Python 3",
   "language": "python",
   "name": "python3"
  },
  "language_info": {
   "codemirror_mode": {
    "name": "ipython",
    "version": 3
   },
   "file_extension": ".py",
   "mimetype": "text/x-python",
   "name": "python",
   "nbconvert_exporter": "python",
   "pygments_lexer": "ipython3",
   "version": "3.8.0"
  }
 },
 "nbformat": 4,
 "nbformat_minor": 2
}
