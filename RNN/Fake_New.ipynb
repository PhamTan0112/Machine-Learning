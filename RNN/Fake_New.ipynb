{
 "cells": [
  {
   "cell_type": "markdown",
   "metadata": {},
   "source": [
    "Load Data"
   ]
  },
  {
   "cell_type": "code",
   "execution_count": null,
   "metadata": {},
   "outputs": [],
   "source": [
    "import pandas as pd\n",
    "\n",
    "data_train = pd.read_csv('train.csv', delimiter=\";\") # Load Train Datasets\n",
    "data_test = pd.read_csv('test.csv', delimiter=\";\") # Load Test Datasets\n",
    "data_eval = pd.read_csv('evaluation.csv', delimiter=\";\") # Load Evaluation Datasets\n",
    "\n",
    "X_train = data_train['title'].values + data_train['text'].values # Create Train Data\n",
    "X_test = data_test['title'].values + data_test['text'].values # Create Test Data\n",
    "X_eval = data_eval['title'].values + data_eval['text'].values # Create Evaluation Data\n",
    "\n",
    "Y_train = data_train['label'].values # Create Train Labels\n",
    "Y_test = data_test['label'].values # Create Test Labels\n",
    "Y_eval = data_eval['label'].values # Create Evaluation Labels"
   ]
  },
  {
   "cell_type": "markdown",
   "metadata": {},
   "source": [
    "Preprocessing Data"
   ]
  },
  {
   "cell_type": "code",
   "execution_count": null,
   "metadata": {},
   "outputs": [],
   "source": [
    "from keras.preprocessing.text import Tokenizer\n",
    "from keras.preprocessing.sequence import pad_sequences\n",
    "\n",
    "tokenizer = Tokenizer(num_words=5000, oov_token=\"Token\") # Create Empty Dictionary\n",
    "tokenizer.fit_on_texts(X_train) # Create Dictionary With 5000 words popular in train data\n",
    "\n",
    "# Preprocessing Train Data\n",
    "train_sequences = tokenizer.texts_to_sequences(X_train) # Mapping text to tokenizer\n",
    "padded_train_sequence = pad_sequences(train_sequences, maxlen=500, padding=\"post\") # Create sequences based on tokenizer\n",
    "\n",
    "# Preprocessing Test Data\n",
    "test_sequences = tokenizer.texts_to_sequences(X_test) # Mapping text to tokenizer\n",
    "padded_test_sequence = pad_sequences(test_sequences, maxlen=500, padding=\"post\") # Create sequences based on tokenizer\n",
    "\n",
    "# Preprocessing Evaluate Data\n",
    "eval_sequences = tokenizer.texts_to_sequences(X_eval) # Mapping text to tokenizer\n",
    "padded_eval_sequence = pad_sequences(eval_sequences, maxlen=500, padding=\"post\") # Create sequences based on tokenizer\n",
    "\n"
   ]
  },
  {
   "cell_type": "markdown",
   "metadata": {},
   "source": [
    "Build And Train RNN simple Models"
   ]
  },
  {
   "cell_type": "code",
   "execution_count": null,
   "metadata": {},
   "outputs": [],
   "source": [
    "from keras.models import Sequential\n",
    "from keras.layers import Embedding, SimpleRNN, Dense\n",
    "from keras.callbacks import EarlyStopping\n",
    "\n",
    "model = Sequential([\n",
    "    Embedding(input_dim=5000, output_dim=128, input_length=500),\n",
    "    SimpleRNN(128, activation=\"tanh\"),\n",
    "    Dense(64, activation=\"relu\"),\n",
    "    Dense(1, activation=\"sigmoid\")\n",
    "])\n",
    "\n",
    "early_stopping = EarlyStopping(\n",
    "    monitor=\"val_loss\",\n",
    "    patience=3,\n",
    "    restore_best_weights=True\n",
    ")\n",
    "\n",
    "model.compile(optimizer=\"adam\", loss=\"binary_crossentropy\", metrics=['accuracy'])\n",
    "model.fit(\n",
    "    padded_train_sequence, Y_train, \n",
    "    validation_data=(padded_test_sequence, Y_test)\n",
    "    batch_size=32, \n",
    "    epochs=10,\n",
    "    callbacks=[early_stopping]\n",
    ")"
   ]
  },
  {
   "cell_type": "markdown",
   "metadata": {},
   "source": [
    "Evaluate Models"
   ]
  },
  {
   "cell_type": "code",
   "execution_count": null,
   "metadata": {},
   "outputs": [],
   "source": [
    "from sklearn.metrics import classification_report, confusion_matrix\n",
    "import matplotlib as plt\n",
    "import seaborn as sns\n",
    "\n",
    "predictions = (model.predict(padded_eval_sequence) > 0.5).astype(\"int32\")\n",
    "print(\"Confusion Matrix: \")\n",
    "\n",
    "cm = confusion_matrix(Y_eval, predictions)\n",
    "sns.heatmap(cm, annot=True, fmt=\"d\", cmap=\"Blues\")\n",
    "\n",
    "plt.xlabel(\"Predicted\")\n",
    "plt.ylabel(\"Actual\")\n",
    "\n",
    "plt.show()\n"
   ]
  },
  {
   "cell_type": "markdown",
   "metadata": {},
   "source": [
    "Save Models And Tokenizer"
   ]
  },
  {
   "cell_type": "code",
   "execution_count": null,
   "metadata": {},
   "outputs": [],
   "source": [
    "model.save(\"Simple_RNN.h5\")\n",
    "import pickle\n",
    "\n",
    "with open('tokenizer.pkl', 'rb') as f:\n",
    "    tokenizer = pickle.load(f)"
   ]
  }
 ],
 "metadata": {
  "kernelspec": {
   "display_name": ".venv",
   "language": "python",
   "name": "python3"
  },
  "language_info": {
   "codemirror_mode": {
    "name": "ipython",
    "version": 3
   },
   "file_extension": ".py",
   "mimetype": "text/x-python",
   "name": "python",
   "nbconvert_exporter": "python",
   "pygments_lexer": "ipython3",
   "version": "3.8.0"
  }
 },
 "nbformat": 4,
 "nbformat_minor": 2
}
