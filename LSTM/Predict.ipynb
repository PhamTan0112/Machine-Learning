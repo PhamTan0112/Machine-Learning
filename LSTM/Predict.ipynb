{
 "cells": [
  {
   "cell_type": "markdown",
   "metadata": {},
   "source": [
    "Load Models And Tokenizer"
   ]
  },
  {
   "cell_type": "code",
   "execution_count": 1,
   "metadata": {},
   "outputs": [],
   "source": [
    "from keras.models import load_model\n",
    "import pickle\n",
    "\n",
    "model = load_model(\"fake_news_lstm.h5\") # Load Model\n",
    "\n",
    "with open(\"tokenizer_lstm.pkl\", \"rb\") as handle: # Load Tokenizer\n",
    "    tokenizer = pickle.load(handle)\n"
   ]
  },
  {
   "cell_type": "markdown",
   "metadata": {},
   "source": [
    "Preprocess Input Function"
   ]
  },
  {
   "cell_type": "code",
   "execution_count": 2,
   "metadata": {},
   "outputs": [],
   "source": [
    "from keras.preprocessing.sequence import pad_sequences\n",
    "\n",
    "def preprocess_input(text, tokenizer):\n",
    "    sequence = tokenizer.texts_to_sequences([text])\n",
    "    return pad_sequences(sequence, maxlen = 250, padding = \"post\")\n"
   ]
  },
  {
   "cell_type": "markdown",
   "metadata": {},
   "source": [
    "Classify Text Function"
   ]
  },
  {
   "cell_type": "code",
   "execution_count": 3,
   "metadata": {},
   "outputs": [],
   "source": [
    "def classify_text(text):\n",
    "    process_input = preprocess_input(text, tokenizer)\n",
    "    prediction = model.predict(process_input)\n",
    "    return \"Fake New\" if prediction[0] > 0.5 else \"Real New\""
   ]
  },
  {
   "cell_type": "markdown",
   "metadata": {},
   "source": [
    "Active Classify"
   ]
  },
  {
   "cell_type": "code",
   "execution_count": 9,
   "metadata": {},
   "outputs": [
    {
     "name": "stdout",
     "output_type": "stream",
     "text": [
      "1/1 [==============================] - 0s 51ms/step\n",
      "Fake New\n"
     ]
    }
   ],
   "source": [
    "input = \"Oregon Cop Convicted Of Shattering Biker’s Collarbone With Kick Forgot Dashcam Was On (VIDEO)\"\n",
    "\n",
    "result = classify_text(input)\n",
    "\n",
    "print(result)"
   ]
  }
 ],
 "metadata": {
  "kernelspec": {
   "display_name": ".venv",
   "language": "python",
   "name": "python3"
  },
  "language_info": {
   "codemirror_mode": {
    "name": "ipython",
    "version": 3
   },
   "file_extension": ".py",
   "mimetype": "text/x-python",
   "name": "python",
   "nbconvert_exporter": "python",
   "pygments_lexer": "ipython3",
   "version": "3.8.0"
  }
 },
 "nbformat": 4,
 "nbformat_minor": 2
}
