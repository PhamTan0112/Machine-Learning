{
 "cells": [
  {
   "cell_type": "markdown",
   "metadata": {},
   "source": [
    "Load And Split Data"
   ]
  },
  {
   "cell_type": "code",
   "execution_count": 2,
   "metadata": {},
   "outputs": [],
   "source": [
    "import pandas as pd\n",
    "\n",
    "data = pd.read_csv('train.csv', delimiter = \";\")  # Load Train datasets\n",
    "data_test = pd.read_csv('test.csv', delimiter = \";\") # Load Test datasets\n",
    "data_eval = pd.read_csv('evaluation.csv', delimiter=\";\") # Load Evaluation datasets\n",
    "\n",
    "# Split Train Data\n",
    "X_train = data['title'].values + data['text'].values\n",
    "Y_train = data['label'].values\n",
    "\n",
    "# Split Test Data\n",
    "X_test = data_test['title'].values + data_test['text'].values\n",
    "Y_test = data_test['label'].values\n",
    "\n",
    "# Split Evaluation Data\n",
    "X_eval = data_eval['title'].values + data_eval['text'].values\n",
    "Y_eval = data_eval['label'].values\n"
   ]
  },
  {
   "cell_type": "markdown",
   "metadata": {},
   "source": [
    "Tokenization And Preprocessing Data"
   ]
  },
  {
   "cell_type": "code",
   "execution_count": 3,
   "metadata": {},
   "outputs": [],
   "source": [
    "from keras.preprocessing.text import Tokenizer\n",
    "from keras.preprocessing.sequence import pad_sequences\n",
    "\n",
    "max_len = 300\n",
    "\n",
    "tokenizer = Tokenizer(num_words=5000, oov_token='<OOV>') # Create Instance tokenizer with 5000 words popular\n",
    "tokenizer.fit_on_texts(X_train) # Build Dictionary based on Train Datasets\n",
    "\n",
    "# Mapping text -> tokenizer. Sequence -> list[number]\n",
    "X_train_sequences = tokenizer.texts_to_sequences(X_train)\n",
    "X_test_sequences = tokenizer.texts_to_sequences(X_test)\n",
    "X_eval_sequences = tokenizer.texts_to_sequences(X_eval)\n",
    "\n",
    "# Padding or Remove for every sequence\n",
    "X_train_padded = pad_sequences(X_train_sequences, maxlen=max_len, padding='post')\n",
    "X_test_padded = pad_sequences(X_test_sequences, maxlen=max_len, padding='post')\n",
    "X_eval_padded = pad_sequences(X_eval_sequences, maxlen=max_len, padding='post')\n"
   ]
  },
  {
   "cell_type": "markdown",
   "metadata": {},
   "source": [
    "Build Models LSTM with Keras"
   ]
  },
  {
   "cell_type": "code",
   "execution_count": 4,
   "metadata": {},
   "outputs": [],
   "source": [
    "from keras.layers import Embedding, LSTM, Dense, SpatialDropout1D\n",
    "from keras.models import Sequential\n",
    "\n",
    "\n",
    "model = Sequential([\n",
    "    Embedding(input_dim=5000, output_dim=128, input_length=max_len), # Embedded input dimension = Dictionary, input length = Sequence max length\n",
    "    SpatialDropout1D(0.2), # Prunning vector decrease Overfitting\n",
    "    LSTM(100, dropout=0.2, recurrent_dropout=0.2), # Model LSTM\n",
    "    Dense(1, activation='sigmoid') # Active Function sigmoid appropriate classified\n",
    "])\n",
    "\n",
    "model.compile(optimizer='adam', loss='binary_crossentropy', metrics=['accuracy']) # optimize model, loss function and accuracy\n"
   ]
  },
  {
   "cell_type": "markdown",
   "metadata": {},
   "source": [
    "Train Model"
   ]
  },
  {
   "cell_type": "code",
   "execution_count": 5,
   "metadata": {},
   "outputs": [
    {
     "name": "stdout",
     "output_type": "stream",
     "text": [
      "Epoch 1/10\n",
      "381/381 [==============================] - 1054s 3s/step - loss: 0.2510 - accuracy: 0.9159 - val_loss: 0.2091 - val_accuracy: 0.9290\n",
      "Epoch 2/10\n",
      "381/381 [==============================] - 1161s 3s/step - loss: 0.1863 - accuracy: 0.9343 - val_loss: 0.1522 - val_accuracy: 0.9491\n",
      "Epoch 3/10\n",
      "381/381 [==============================] - 1254s 3s/step - loss: 0.1890 - accuracy: 0.9232 - val_loss: 0.1992 - val_accuracy: 0.9352\n",
      "Epoch 4/10\n",
      "381/381 [==============================] - 1302s 3s/step - loss: 0.1491 - accuracy: 0.9462 - val_loss: 0.1899 - val_accuracy: 0.9276\n",
      "Epoch 5/10\n",
      "381/381 [==============================] - 1329s 3s/step - loss: 0.2237 - accuracy: 0.9163 - val_loss: 0.2796 - val_accuracy: 0.8923\n"
     ]
    }
   ],
   "source": [
    "from keras.callbacks import EarlyStopping\n",
    "\n",
    "early_stopping = EarlyStopping(monitor='val_loss', patience=3, restore_best_weights=True) # Stop Training When Model Cant Learn\n",
    "history = model.fit(X_train_padded, Y_train, validation_data=(X_test_padded, Y_test), # Training with: input - X_train_padded\n",
    "                    epochs=10, batch_size=64, callbacks=[early_stopping], verbose=1)  #                output - Y_train\n",
    "                                                                                      #                test - validation_data\n",
    "                                                                                      #                timesteps - epochs\n",
    "                                                                                      #                sample size - batch_size\n",
    "                                                                                      #                optimize - callbacks"
   ]
  },
  {
   "cell_type": "markdown",
   "metadata": {},
   "source": [
    "Model Evaluation"
   ]
  },
  {
   "cell_type": "code",
   "execution_count": 6,
   "metadata": {},
   "outputs": [
    {
     "name": "stdout",
     "output_type": "stream",
     "text": [
      "254/254 [==============================] - 21s 79ms/step\n",
      "Độ chính xác của mô hình: 0.9453\n",
      "Báo cáo phân loại:\n",
      "              precision    recall  f1-score   support\n",
      "\n",
      "           0       0.46      0.47      0.47      3753\n",
      "           1       0.53      0.52      0.52      4364\n",
      "\n",
      "    accuracy                           0.50      8117\n",
      "   macro avg       0.50      0.50      0.50      8117\n",
      "weighted avg       0.50      0.50      0.50      8117\n",
      "\n"
     ]
    }
   ],
   "source": [
    "#       With Accuracy\n",
    "from sklearn.metrics import accuracy_score, classification_report\n",
    "\n",
    "y_pred_prob = model.predict(X_eval_padded)\n",
    "y_pred = (y_pred_prob > 0.5).astype(int)\n",
    "\n",
    "accuracy = accuracy_score(Y_eval, y_pred)\n",
    "print(f\"Độ chính xác của mô hình: {accuracy:.4f}\")\n",
    "print(\"Báo cáo phân loại:\")\n",
    "print(classification_report(Y_test, y_pred))"
   ]
  },
  {
   "cell_type": "code",
   "execution_count": 7,
   "metadata": {},
   "outputs": [
    {
     "data": {
      "image/png": "[encoded data removed]",
      "text/plain": [
       "<Figure size 640x480 with 1 Axes>"
      ]
     },
     "metadata": {},
     "output_type": "display_data"
    }
   ],
   "source": [
    "#       With Plot\n",
    "\n",
    "import matplotlib.pyplot as plt\n",
    "\n",
    "loss = history.history['loss'] # History of Loss Function\n",
    "val_loss = history.history['val_loss'] # value of Loss Function\n",
    "\n",
    "# Show plot\n",
    "\n",
    "plt.plot(loss, label = \"Training Loss\")\n",
    "plt.plot(val_loss, label = \"Validation Loss\")\n",
    "plt.legend()\n",
    "plt.show()"
   ]
  },
  {
   "cell_type": "markdown",
   "metadata": {},
   "source": [
    "Save Models, History Train And Tokenizer"
   ]
  },
  {
   "cell_type": "code",
   "execution_count": 8,
   "metadata": {},
   "outputs": [
    {
     "name": "stderr",
     "output_type": "stream",
     "text": [
      "d:\\Exercise\\Git\\ML\\Machine-Learning\\.venv\\lib\\site-packages\\keras\\src\\engine\\training.py:3000: UserWarning: You are saving your model as an HDF5 file via `model.save()`. This file format is considered legacy. We recommend using instead the native Keras format, e.g. `model.save('my_model.keras')`.\n",
      "  saving_api.save_model(\n"
     ]
    }
   ],
   "source": [
    "import pickle\n",
    "\n",
    "model.save('fake_news_lstm.h5') # Save model\n",
    "\n",
    "with open('tokenizer_lstm.pkl', 'wb') as handle:\n",
    "    pickle.dump(tokenizer, handle, protocol=pickle.HIGHEST_PROTOCOL) # Save tokenizer\n",
    "\n",
    "with open('history.pkl', 'wb') as f:\n",
    "    pickle.dump(history.history, f) # Save history"
   ]
  }
 ],
 "metadata": {
  "kernelspec": {
   "display_name": ".venv",
   "language": "python",
   "name": "python3"
  },
  "language_info": {
   "codemirror_mode": {
    "name": "ipython",
    "version": 3
   },
   "file_extension": ".py",
   "mimetype": "text/x-python",
   "name": "python",
   "nbconvert_exporter": "python",
   "pygments_lexer": "ipython3",
   "version": "3.8.0"
  }
 },
 "nbformat": 4,
 "nbformat_minor": 2
}
